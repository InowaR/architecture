{
  "nbformat": 4,
  "nbformat_minor": 0,
  "metadata": {
    "colab": {
      "provenance": [],
      "authorship_tag": "ABX9TyOHLCP7OvmMJE0beiZCbuBa",
      "include_colab_link": true
    },
    "kernelspec": {
      "name": "python3",
      "display_name": "Python 3"
    },
    "language_info": {
      "name": "python"
    }
  },
  "cells": [
    {
      "cell_type": "markdown",
      "metadata": {
        "id": "view-in-github",
        "colab_type": "text"
      },
      "source": [
        "<a href=\"https://colab.research.google.com/github/InowaR/architecture/blob/main/MVP.ipynb\" target=\"_parent\"><img src=\"https://colab.research.google.com/assets/colab-badge.svg\" alt=\"Open In Colab\"/></a>"
      ]
    },
    {
      "cell_type": "code",
      "execution_count": 11,
      "metadata": {
        "id": "_MYCfFtL-7Md"
      },
      "outputs": [],
      "source": [
        "class Model:\n",
        "    def __init__(self):\n",
        "        self.data = None\n",
        "\n",
        "    def get_data(self):\n",
        "        return self.data\n",
        "\n",
        "    def set_data(self, data):\n",
        "        self.data = data\n",
        "\n",
        "\n",
        "class View:\n",
        "    def __init__(self, presenter):\n",
        "        self.presenter = presenter\n",
        "\n",
        "    def display_data(self, data):\n",
        "        pass\n",
        "\n",
        "    def handle_input(self, input_data):\n",
        "        self.presenter.handle_input(input_data)\n",
        "\n",
        "\n",
        "class Presenter:\n",
        "    def __init__(self, model, view):\n",
        "        self.model = model\n",
        "        self.view = view\n",
        "\n",
        "    def handle_input(self, input_data):\n",
        "        self.model.set_data(input_data)\n",
        "        self.update_view()\n",
        "\n",
        "    def get_data(self):\n",
        "        return self.model.get_data()\n",
        "\n",
        "    def update_view(self):\n",
        "        data = self.get_data()\n",
        "        self.view.display_data(data)\n",
        "\n",
        "\n",
        "model = Model()\n",
        "presenter = Presenter(model, view)\n",
        "view = View(presenter)\n",
        "view.handle_input('input_data')\n"
      ]
    }
  ]
}