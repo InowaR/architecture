{
  "nbformat": 4,
  "nbformat_minor": 0,
  "metadata": {
    "colab": {
      "provenance": [],
      "authorship_tag": "ABX9TyODcRkHki+4wSICM2PsMUTY",
      "include_colab_link": true
    },
    "kernelspec": {
      "name": "python3",
      "display_name": "Python 3"
    },
    "language_info": {
      "name": "python"
    }
  },
  "cells": [
    {
      "cell_type": "markdown",
      "metadata": {
        "id": "view-in-github",
        "colab_type": "text"
      },
      "source": [
        "<a href=\"https://colab.research.google.com/github/InowaR/architecture/blob/main/client_server_architecture.ipynb\" target=\"_parent\"><img src=\"https://colab.research.google.com/assets/colab-badge.svg\" alt=\"Open In Colab\"/></a>"
      ]
    },
    {
      "cell_type": "code",
      "execution_count": null,
      "metadata": {
        "id": "_MYCfFtL-7Md"
      },
      "outputs": [],
      "source": [
        "# Серверный файл\n",
        "\n",
        "import socket\n",
        "\n",
        "HOST = '127.0.0.1'\n",
        "PORT = 65432\n",
        "\n",
        "with socket.socket(socket.AF_INET, socket.SOCK_STREAM) as s:\n",
        "    s.bind((HOST, PORT))\n",
        "    s.listen()\n",
        "    conn, addr = s.accept()\n",
        "    with conn:\n",
        "        print('Connected by', addr)\n",
        "        while True:\n",
        "            data = conn.recv(1024)\n",
        "            if not data:\n",
        "                break\n",
        "            conn.sendall(data.upper())\n",
        "\n",
        "# Клиентский файл\n",
        "\n",
        "import socket\n",
        "\n",
        "HOST = '127.0.0.1'\n",
        "PORT = 65432\n",
        "\n",
        "with socket.socket(socket.AF_INET, socket.SOCK_STREAM) as s:\n",
        "    s.connect((HOST, PORT))\n",
        "    s.sendall(b'Hello, server!')\n",
        "    data = s.recv(1024)\n",
        "\n",
        "print('Received', repr(data))\n"
      ]
    }
  ]
}