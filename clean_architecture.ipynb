{
  "nbformat": 4,
  "nbformat_minor": 0,
  "metadata": {
    "colab": {
      "provenance": [],
      "authorship_tag": "ABX9TyNEUricOh2vV03mrdPs/rUt",
      "include_colab_link": true
    },
    "kernelspec": {
      "name": "python3",
      "display_name": "Python 3"
    },
    "language_info": {
      "name": "python"
    }
  },
  "cells": [
    {
      "cell_type": "markdown",
      "metadata": {
        "id": "view-in-github",
        "colab_type": "text"
      },
      "source": [
        "<a href=\"https://colab.research.google.com/github/InowaR/architecture/blob/main/clean_architecture.ipynb\" target=\"_parent\"><img src=\"https://colab.research.google.com/assets/colab-badge.svg\" alt=\"Open In Colab\"/></a>"
      ]
    },
    {
      "cell_type": "code",
      "execution_count": 8,
      "metadata": {
        "id": "_MYCfFtL-7Md"
      },
      "outputs": [],
      "source": [
        "class View:\n",
        "    def __init__(self, presenter):\n",
        "        self.presenter = presenter\n",
        "\n",
        "    def display_data(self, data):\n",
        "        pass\n",
        "\n",
        "    def display_error(self, error):\n",
        "        pass\n",
        "\n",
        "    def handle_input(self, input_data):\n",
        "        self.presenter.handle_input(input_data)\n",
        "\n",
        "\n",
        "class Presenter:\n",
        "    def __init__(self, interactor):\n",
        "        self.interactor = interactor\n",
        "\n",
        "    def handle_input(self, input_data):\n",
        "        self.interactor.get_data(input_data)\n",
        "\n",
        "    def handle_data(self, data):\n",
        "        pass\n",
        "\n",
        "    def handle_error(self, error):\n",
        "        pass\n",
        "\n",
        "\n",
        "class Interactor:\n",
        "    def __init__(self, repository):\n",
        "        self.repository = repository\n",
        "\n",
        "    def get_data(self, input_data):\n",
        "        data = self.repository.get_data(input_data)\n",
        "        if data:\n",
        "            self.handle_data(data)\n",
        "        else:\n",
        "            self.handle_error('Data not found')\n",
        "\n",
        "    def handle_data(self, data):\n",
        "        pass\n",
        "\n",
        "    def handle_error(self, error):\n",
        "        pass\n",
        "\n",
        "\n",
        "class Repository:\n",
        "    def __init__(self, data_source):\n",
        "        self.data_source = data_source\n",
        "\n",
        "    def get_data(self, input_data):\n",
        "        data = self.data_source.get_data(input_data)\n",
        "        return data\n",
        "\n",
        "\n",
        "class DataSource:\n",
        "    def get_data(self, input_data):\n",
        "        pass\n",
        "\n",
        "\n",
        "data_source = DataSource()\n",
        "repository = Repository(data_source)\n",
        "interactor = Interactor(repository)\n",
        "presenter = Presenter(interactor)\n",
        "view = View(presenter)\n",
        "view.handle_input('input_data')"
      ]
    }
  ]
}