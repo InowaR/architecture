{
  "nbformat": 4,
  "nbformat_minor": 0,
  "metadata": {
    "colab": {
      "provenance": [],
      "authorship_tag": "ABX9TyMsGVeRfo7RdW3QRXjDtQ93",
      "include_colab_link": true
    },
    "kernelspec": {
      "name": "python3",
      "display_name": "Python 3"
    },
    "language_info": {
      "name": "python"
    }
  },
  "cells": [
    {
      "cell_type": "markdown",
      "metadata": {
        "id": "view-in-github",
        "colab_type": "text"
      },
      "source": [
        "<a href=\"https://colab.research.google.com/github/InowaR/architecture/blob/main/clean_architecture.ipynb\" target=\"_parent\"><img src=\"https://colab.research.google.com/assets/colab-badge.svg\" alt=\"Open In Colab\"/></a>"
      ]
    },
    {
      "cell_type": "code",
      "execution_count": null,
      "metadata": {
        "id": "_MYCfFtL-7Md"
      },
      "outputs": [],
      "source": [
        "class Storage:\n",
        "    def save(self, data):\n",
        "        pass\n",
        "\n",
        "    def load(self, data_id):\n",
        "        pass\n",
        "\n",
        "\n",
        "class BusinessLogic:\n",
        "    def process(self, data):\n",
        "        pass\n",
        "\n",
        "\n",
        "class Presentation:\n",
        "    def render(self, data):\n",
        "        pass\n",
        "\n",
        "\n",
        "def main():\n",
        "    storage = Storage()\n",
        "    business_logic = BusinessLogic()\n",
        "    presentation = Presentation()\n",
        "    data = business_logic.process(storage.load(\"data_id\"))\n",
        "    presentation.render(data)\n",
        "\n",
        "if __name__ == \"__main__\":\n",
        "    main()"
      ]
    }
  ]
}