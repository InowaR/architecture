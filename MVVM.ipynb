{
  "nbformat": 4,
  "nbformat_minor": 0,
  "metadata": {
    "colab": {
      "provenance": [],
      "authorship_tag": "ABX9TyPptW4iBqqK+ykdG4hUglwz",
      "include_colab_link": true
    },
    "kernelspec": {
      "name": "python3",
      "display_name": "Python 3"
    },
    "language_info": {
      "name": "python"
    }
  },
  "cells": [
    {
      "cell_type": "markdown",
      "metadata": {
        "id": "view-in-github",
        "colab_type": "text"
      },
      "source": [
        "<a href=\"https://colab.research.google.com/github/InowaR/architecture/blob/main/MVVM.ipynb\" target=\"_parent\"><img src=\"https://colab.research.google.com/assets/colab-badge.svg\" alt=\"Open In Colab\"/></a>"
      ]
    },
    {
      "cell_type": "code",
      "execution_count": 12,
      "metadata": {
        "id": "_MYCfFtL-7Md"
      },
      "outputs": [],
      "source": [
        "class Model:\n",
        "    def __init__(self):\n",
        "        self.data = None\n",
        "\n",
        "    def get_data(self):\n",
        "        return self.data\n",
        "\n",
        "    def set_data(self, data):\n",
        "        self.data = data\n",
        "\n",
        "\n",
        "class ViewModel:\n",
        "    def __init__(self, model):\n",
        "        self.model = model\n",
        "        self.data = None\n",
        "\n",
        "    def get_data(self):\n",
        "        return self.data\n",
        "\n",
        "    def set_data(self, data):\n",
        "        self.data = data\n",
        "        self.model.set_data(data)\n",
        "\n",
        "    def update_data(self):\n",
        "        data = self.model.get_data()\n",
        "        self.set_data(data)\n",
        "\n",
        "\n",
        "class View:\n",
        "    def __init__(self, view_model):\n",
        "        self.view_model = view_model\n",
        "\n",
        "    def display_data(self, data):\n",
        "        pass\n",
        "\n",
        "    def handle_input(self, input_data):\n",
        "        self.view_model.set_data(input_data)\n",
        "\n",
        "\n",
        "model = Model()\n",
        "view_model = ViewModel(model)\n",
        "view = View(view_model)\n",
        "view.handle_input('input_data')"
      ]
    }
  ]
}