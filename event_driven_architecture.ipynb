{
  "nbformat": 4,
  "nbformat_minor": 0,
  "metadata": {
    "colab": {
      "provenance": [],
      "authorship_tag": "ABX9TyOOzVhR4PrQVnO9RzMgh/fu",
      "include_colab_link": true
    },
    "kernelspec": {
      "name": "python3",
      "display_name": "Python 3"
    },
    "language_info": {
      "name": "python"
    }
  },
  "cells": [
    {
      "cell_type": "markdown",
      "metadata": {
        "id": "view-in-github",
        "colab_type": "text"
      },
      "source": [
        "<a href=\"https://colab.research.google.com/github/InowaR/architecture/blob/main/event_driven_architecture.ipynb\" target=\"_parent\"><img src=\"https://colab.research.google.com/assets/colab-badge.svg\" alt=\"Open In Colab\"/></a>"
      ]
    },
    {
      "cell_type": "code",
      "execution_count": 5,
      "metadata": {
        "colab": {
          "base_uri": "https://localhost:8080/"
        },
        "id": "_MYCfFtL-7Md",
        "outputId": "1bde7541-a81a-4dfa-e31a-8bdaba29405e"
      },
      "outputs": [
        {
          "output_type": "stream",
          "name": "stdout",
          "text": [
            "Requirement already satisfied: telebot in /usr/local/lib/python3.10/dist-packages (0.0.5)\n",
            "Requirement already satisfied: pyTelegramBotAPI in /usr/local/lib/python3.10/dist-packages (from telebot) (4.14.0)\n",
            "Requirement already satisfied: requests in /usr/local/lib/python3.10/dist-packages (from telebot) (2.31.0)\n",
            "Requirement already satisfied: charset-normalizer<4,>=2 in /usr/local/lib/python3.10/dist-packages (from requests->telebot) (3.3.0)\n",
            "Requirement already satisfied: idna<4,>=2.5 in /usr/local/lib/python3.10/dist-packages (from requests->telebot) (3.4)\n",
            "Requirement already satisfied: urllib3<3,>=1.21.1 in /usr/local/lib/python3.10/dist-packages (from requests->telebot) (2.0.6)\n",
            "Requirement already satisfied: certifi>=2017.4.17 in /usr/local/lib/python3.10/dist-packages (from requests->telebot) (2023.7.22)\n"
          ]
        }
      ],
      "source": [
        "!pip install telebot\n",
        "import telebot\n",
        "\n",
        "# создаем экземпляр бота\n",
        "bot = telebot.TeleBot('TOKEN')\n",
        "\n",
        "# обработчик команды /start\n",
        "@bot.message_handler(commands=['start'])\n",
        "def start_message(message):\n",
        "    bot.reply_to(message, 'Привет, я телеграм бот!')\n",
        "\n",
        "# обработчик сообщений с текстом \"Привет\"\n",
        "@bot.message_handler(func=lambda message: message.text == 'Привет')\n",
        "def hello_message(message):\n",
        "    bot.reply_to(message, 'Привет!')\n",
        "\n",
        "# обработчик сообщений с фотографиями\n",
        "@bot.message_handler(content_types=['photo'])\n",
        "def photo_message(message):\n",
        "    bot.reply_to(message, 'Красивая фотография!')\n",
        "\n",
        "# запускаем бота\n",
        "bot.polling()"
      ]
    }
  ]
}