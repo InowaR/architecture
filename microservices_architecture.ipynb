{
  "nbformat": 4,
  "nbformat_minor": 0,
  "metadata": {
    "colab": {
      "provenance": [],
      "authorship_tag": "ABX9TyNOTj77r0e2lyoGM6jV9x+5",
      "include_colab_link": true
    },
    "kernelspec": {
      "name": "python3",
      "display_name": "Python 3"
    },
    "language_info": {
      "name": "python"
    }
  },
  "cells": [
    {
      "cell_type": "markdown",
      "metadata": {
        "id": "view-in-github",
        "colab_type": "text"
      },
      "source": [
        "<a href=\"https://colab.research.google.com/github/InowaR/architecture/blob/main/microservices_architecture.ipynb\" target=\"_parent\"><img src=\"https://colab.research.google.com/assets/colab-badge.svg\" alt=\"Open In Colab\"/></a>"
      ]
    },
    {
      "cell_type": "code",
      "execution_count": null,
      "metadata": {
        "id": "_MYCfFtL-7Md"
      },
      "outputs": [],
      "source": [
        "class ProductsService:\n",
        "    def get_products(self):\n",
        "        pass\n",
        "\n",
        "    def create_product(self, product):\n",
        "        pass\n",
        "\n",
        "\n",
        "class OrdersService:\n",
        "    def get_orders(self):\n",
        "        pass\n",
        "\n",
        "    def create_order(self):\n",
        "        pass\n",
        "\n",
        "\n",
        "class PaymentsService:\n",
        "    def process_payment(self, order_id):\n",
        "        pass\n",
        "\n",
        "\n",
        "def main():\n",
        "    products_service = ProductsService()\n",
        "    orders_service = OrdersService()\n",
        "    payments_service = PaymentsService()\n",
        "    products = products_service.get_products()\n",
        "    order = orders_service.create_order(products)\n",
        "    payments_service.process_payment(order.id)\n",
        "\n",
        "if __name__ == \"__main__\":\n",
        "    main()"
      ]
    }
  ]
}